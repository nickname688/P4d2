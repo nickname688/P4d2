{
 "cells": [
  {
   "cell_type": "code",
   "execution_count": null,
   "id": "73f6f685",
   "metadata": {},
   "outputs": [],
   "source": [
    "edges = []\n",
    "edges.extend([[0, 1, 2, 3], [0, 4, 5, 6], [1, 4, 7, 8]])\n",
    "\n",
    "extraVertex = [7, 8]"
   ]
  },
  {
   "cell_type": "code",
   "execution_count": 2,
   "id": "d159d519",
   "metadata": {},
   "outputs": [
    {
     "data": {
      "text/plain": [
       "[[0, 1, 2, 3], [0, 4, 5, 6], [1, 4, 7, 8]]"
      ]
     },
     "execution_count": 2,
     "metadata": {},
     "output_type": "execute_result"
    }
   ],
   "source": [
    "edges"
   ]
  },
  {
   "cell_type": "code",
   "execution_count": 3,
   "id": "76ac7c9b",
   "metadata": {},
   "outputs": [],
   "source": [
    "from collections import Counter\n",
    "\n",
    "def checkIfLinear(edges, singleEdge):\n",
    "    for edge in edges:\n",
    "        if len(set(edge).intersection(set(singleEdge))) >= 2:\n",
    "            return False\n",
    "    return True\n",
    "\n",
    "def checkIfFormP3(edge1, edge2, edge3):\n",
    "    if len(set(edge1).intersection(set(edge2))) == 0:\n",
    "        # edge3 must connect edge1 and edge2\n",
    "        if (len(set(edge1).intersection(set(edge3))) == 1) and (len(set(edge2).intersection(set(edge3))) == 1):\n",
    "            return True\n",
    "    elif len(set(edge1).intersection(set(edge2))) == 1:\n",
    "        # edge3 must connect to exactly one of edge1 and edge2\n",
    "        commonVertex = set(edge1).intersection(set(edge2)).pop()\n",
    "        comm13 = set(edge1).intersection(set(edge3))\n",
    "        comm23 = set(edge2).intersection(set(edge3))\n",
    "        if (len(comm13) ^ len(comm23)) == 1:\n",
    "            if commonVertex not in comm13 and commonVertex not in comm23:\n",
    "                return True\n",
    "    return False\n",
    "        \n",
    "\n",
    "def checkIfContainP4(edges, singleEdge):\n",
    "    length = len(edges)\n",
    "    for i in range(length):\n",
    "        for j in range(i + 1, length):\n",
    "            if checkIfFormP3(edges[i], edges[j], singleEdge):\n",
    "                return True \n",
    "    \n",
    "    return False"
   ]
  },
  {
   "cell_type": "code",
   "execution_count": 34,
   "id": "0633f22b",
   "metadata": {},
   "outputs": [],
   "source": [
    "firstEdge = [1,2,3]\n",
    "secondEdge = [4,5,6]\n",
    "\n",
    "result = []\n",
    "\n",
    "def findAllSituations(edges, extraVertex = [7, 8], extraVertexCount = 0):\n",
    "    addFlag = False\n",
    "    for i in range(len(firstEdge)):\n",
    "        ver1= firstEdge[i]\n",
    "        for j in range(len(secondEdge)):\n",
    "            ver2 = secondEdge[j]\n",
    "            # 选两个已有的\n",
    "            extraVertexLen = len(extraVertex)\n",
    "            for extra1 in range(extraVertexLen):\n",
    "                ver3 = extraVertex[extra1]\n",
    "                for extra2 in range(extra1 + 1, extraVertexLen):\n",
    "                    ver4 = extraVertex[extra2]\n",
    "                    newEdge = [ver1, ver2, ver3, ver4]\n",
    "                    if checkIfLinear(edges, newEdge) and (not checkIfContainP4(edges, newEdge)):\n",
    "                        addFlag = True\n",
    "                        edges.append(newEdge)\n",
    "                        # print('2', edges)\n",
    "                        findAllSituations(edges, extraVertex, extraVertexCount = 0)\n",
    "                        \n",
    "                        \n",
    "            # 选一个已有的\n",
    "            for extra in extraVertex:\n",
    "                ver3 = extra\n",
    "                ver4 = max(extraVertex) + 1\n",
    "                newEdge = [ver1, ver2, ver3, ver4]\n",
    "                if checkIfLinear(edges, newEdge) and (not checkIfContainP4(edges, newEdge)):\n",
    "                    addFlag = True\n",
    "                    edges.append(newEdge)\n",
    "                    # print('1', edges)\n",
    "                    findAllSituations(edges, extraVertex + [ver4], extraVertexCount = 1)\n",
    "                    \n",
    "            # 选两个新的\n",
    "            ver3 = max(extraVertex) + 1\n",
    "            ver4 = max(extraVertex) + 2\n",
    "            newEdge = [ver1, ver2, ver3, ver4]\n",
    "            if checkIfLinear(edges, newEdge) and (not checkIfContainP4(edges, newEdge)):\n",
    "                addFlag = True\n",
    "                edges.append(newEdge)\n",
    "                # print('0', edges)\n",
    "                findAllSituations(edges, extraVertex + [ver3, ver4], extraVertexCount = 2)\n",
    "\n",
    "\n",
    "    # 无论如何都加不了边了\n",
    "    if not addFlag:\n",
    "        result.append([edges.copy(), max(extraVertex) + 1])\n",
    "        # print(edges.copy())\n",
    "    edges.pop()\n",
    "    for _ in range(extraVertexCount):\n",
    "        extraVertex.pop()"
   ]
  },
  {
   "cell_type": "code",
   "execution_count": 35,
   "id": "e9893862",
   "metadata": {},
   "outputs": [
    {
     "name": "stdout",
     "output_type": "stream",
     "text": [
      "13\n"
     ]
    }
   ],
   "source": [
    "# case 1\n",
    "edges = []\n",
    "edges.extend([[0, 1, 2, 3], [0, 4, 5, 6], [1, 4, 7, 8], [2, 5, 7, 9]])\n",
    "\n",
    "extraVertex = [7, 8, 9]\n",
    "\n",
    "findAllSituations(edges, extraVertex=[7, 8], extraVertexCount=0)\n",
    "\n",
    "maxVertexCount = max([i[1] for i in result])\n",
    "print(maxVertexCount)"
   ]
  },
  {
   "cell_type": "code",
   "execution_count": null,
   "id": "8ddf0e72",
   "metadata": {},
   "outputs": [],
   "source": [
    "result"
   ]
  },
  {
   "cell_type": "code",
   "execution_count": 25,
   "id": "e419aa7c",
   "metadata": {},
   "outputs": [
    {
     "data": {
      "text/plain": [
       "1729"
      ]
     },
     "execution_count": 25,
     "metadata": {},
     "output_type": "execute_result"
    }
   ],
   "source": [
    "len(result)"
   ]
  },
  {
   "cell_type": "code",
   "execution_count": 36,
   "id": "ae4235ce",
   "metadata": {},
   "outputs": [
    {
     "name": "stdout",
     "output_type": "stream",
     "text": [
      "13\n"
     ]
    }
   ],
   "source": [
    "# case 2\n",
    "edges = []\n",
    "edges.extend([[0, 1, 2, 3], [0, 4, 5, 6], [1, 4, 7, 8], [1, 5, 9, 10]])\n",
    "\n",
    "extraVertex = [7, 8, 9, 10]\n",
    "\n",
    "findAllSituations(edges, extraVertex=[7, 8], extraVertexCount=0)\n",
    "\n",
    "maxVertexCount = max([i[1] for i in result])\n",
    "print(maxVertexCount)"
   ]
  },
  {
   "cell_type": "code",
   "execution_count": 27,
   "id": "9096b9fb",
   "metadata": {},
   "outputs": [
    {
     "data": {
      "text/plain": [
       "2785"
      ]
     },
     "execution_count": 27,
     "metadata": {},
     "output_type": "execute_result"
    }
   ],
   "source": [
    "len(result)"
   ]
  },
  {
   "cell_type": "code",
   "execution_count": null,
   "id": "0c7cae22",
   "metadata": {},
   "outputs": [],
   "source": []
  }
 ],
 "metadata": {
  "kernelspec": {
   "display_name": "Python 3",
   "language": "python",
   "name": "python3"
  },
  "language_info": {
   "codemirror_mode": {
    "name": "ipython",
    "version": 3
   },
   "file_extension": ".py",
   "mimetype": "text/x-python",
   "name": "python",
   "nbconvert_exporter": "python",
   "pygments_lexer": "ipython3",
   "version": "3.9.9"
  }
 },
 "nbformat": 4,
 "nbformat_minor": 5
}
